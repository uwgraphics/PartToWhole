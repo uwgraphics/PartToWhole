{
 "cells": [
  {
   "cell_type": "markdown",
   "id": "821d8ace",
   "metadata": {},
   "source": [
    "# Modeling Study Results \n",
    "## Anchoring and Alignment: Data Factors in Part-to-Whole Visualization\n",
    "\n",
    "### Imports"
   ]
  },
  {
   "cell_type": "code",
   "execution_count": 32,
   "id": "6ab85ed4",
   "metadata": {
    "vscode": {
     "languageId": "r"
    }
   },
   "outputs": [],
   "source": [
    "library(glmmTMB)"
   ]
  },
  {
   "cell_type": "markdown",
   "id": "7e9f7e09",
   "metadata": {},
   "source": [
    "### Load Data"
   ]
  },
  {
   "cell_type": "code",
   "execution_count": 42,
   "id": "56a8d5ce",
   "metadata": {
    "vscode": {
     "languageId": "r"
    }
   },
   "outputs": [],
   "source": [
    "# Read in final results data\n",
    "data <- read.csv(\"data/results.csv\", header=T)\n",
    "\n",
    "# Create numeric binary indicators for alignment, anchoring, and chart type\n",
    "data$alignment_num <- ifelse(data$alignment == \"aligned\", -1, 1)\n",
    "data$anchor_num <- ifelse(data$anchor == \"anchor\", -1, 1)\n",
    "data$chartType_num <- ifelse(data$chartType == \"pie\", -1, 1)\n",
    "\n",
    "# Create rounding factors based on distance to 5s and 10s\n",
    "data$distToNearest5 <- abs(data$selectedPart - round(data$selectedPart / 5) * 5) - 1\n",
    "data$distToNearest10 <- abs(data$selectedPart - round(data$selectedPart / 10) * 10) - 2\n",
    "\n",
    "# Create ordinal variables for alignment and anchoring\n",
    "data$anchorDistance <- as.numeric(factor(data$anchorCategory, \n",
    "    levels = c(\"anchor\", \"near-anchor\", \"far-anchor\"))) - 1\n",
    "data$alignmentDistance <- as.numeric(factor(data$alignmentCategory, \n",
    "    levels = c(\"aligned\", \"near-aligned\", \"far-from-aligned\"))) - 1"
   ]
  },
  {
   "cell_type": "markdown",
   "id": "2628c4c5",
   "metadata": {},
   "source": [
    "### Build Absolute Error Models\n",
    "\n",
    "#### Compare Distributions via AIC Model Comparison"
   ]
  },
  {
   "cell_type": "code",
   "execution_count": 34,
   "id": "d8f809bc",
   "metadata": {
    "vscode": {
     "languageId": "r"
    }
   },
   "outputs": [
    {
     "data": {
      "text/html": [
       "<table class=\"dataframe\">\n",
       "<caption>A data.frame: 3 × 2</caption>\n",
       "<thead>\n",
       "\t<tr><th></th><th scope=col>df</th><th scope=col>AIC</th></tr>\n",
       "\t<tr><th></th><th scope=col>&lt;dbl&gt;</th><th scope=col>&lt;dbl&gt;</th></tr>\n",
       "</thead>\n",
       "<tbody>\n",
       "\t<tr><th scope=row>modelPoisson</th><td>18</td><td>26251.76</td></tr>\n",
       "\t<tr><th scope=row>modelBinomial</th><td>19</td><td>23202.92</td></tr>\n",
       "\t<tr><th scope=row>modelTweedie</th><td>20</td><td>23580.43</td></tr>\n",
       "</tbody>\n",
       "</table>\n"
      ],
      "text/latex": [
       "A data.frame: 3 × 2\n",
       "\\begin{tabular}{r|ll}\n",
       "  & df & AIC\\\\\n",
       "  & <dbl> & <dbl>\\\\\n",
       "\\hline\n",
       "\tmodelPoisson & 18 & 26251.76\\\\\n",
       "\tmodelBinomial & 19 & 23202.92\\\\\n",
       "\tmodelTweedie & 20 & 23580.43\\\\\n",
       "\\end{tabular}\n"
      ],
      "text/markdown": [
       "\n",
       "A data.frame: 3 × 2\n",
       "\n",
       "| <!--/--> | df &lt;dbl&gt; | AIC &lt;dbl&gt; |\n",
       "|---|---|---|\n",
       "| modelPoisson | 18 | 26251.76 |\n",
       "| modelBinomial | 19 | 23202.92 |\n",
       "| modelTweedie | 20 | 23580.43 |\n",
       "\n"
      ],
      "text/plain": [
       "              df AIC     \n",
       "modelPoisson  18 26251.76\n",
       "modelBinomial 19 23202.92\n",
       "modelTweedie  20 23580.43"
      ]
     },
     "metadata": {},
     "output_type": "display_data"
    }
   ],
   "source": [
    "modelPoisson <- glmmTMB(\n",
    "  absError ~ chartType_num * anchor_num * alignment_num +\n",
    "    (1 + anchor_num + alignment_num + chartType_num | userID),\n",
    "  data = data,\n",
    "  family = poisson(link = \"log\")\n",
    ")\n",
    "\n",
    "modelBinomial <- glmmTMB(\n",
    "  absError ~ chartType_num * anchor_num * alignment_num +\n",
    "    (1 + anchor_num + alignment_num + chartType_num | userID),\n",
    "  data = data,\n",
    "  family = nbinom2(link = \"log\")\n",
    ")\n",
    "\n",
    "modelTweedie <- glmmTMB(\n",
    "  absError ~ chartType_num * anchor_num * alignment_num +\n",
    "    (1 + anchor_num + alignment_num + chartType_num | userID),\n",
    "  data = data,\n",
    "  family = tweedie(link = \"log\")\n",
    ")\n",
    "\n",
    "AIC(modelPoisson, modelBinomial, modelTweedie)"
   ]
  },
  {
   "cell_type": "markdown",
   "id": "1fc45fd2",
   "metadata": {},
   "source": [
    "The binomial model has the best fit and will be used for the remaining absolute error models\n",
    "\n",
    "#### Compare Rounding Covariates via AIC Model Comparison"
   ]
  },
  {
   "cell_type": "code",
   "execution_count": 18,
   "id": "0de69da0",
   "metadata": {
    "vscode": {
     "languageId": "r"
    }
   },
   "outputs": [
    {
     "name": "stderr",
     "output_type": "stream",
     "text": [
      "Warning message in finalizeTMB(TMBStruc, obj, fit, h, data.tmb.old):\n",
      "“Model convergence problem; singular convergence (7). See vignette('troubleshooting'), help('diagnose')”\n"
     ]
    },
    {
     "data": {
      "text/html": [
       "<table class=\"dataframe\">\n",
       "<caption>A data.frame: 3 × 2</caption>\n",
       "<thead>\n",
       "\t<tr><th></th><th scope=col>df</th><th scope=col>AIC</th></tr>\n",
       "\t<tr><th></th><th scope=col>&lt;dbl&gt;</th><th scope=col>&lt;dbl&gt;</th></tr>\n",
       "</thead>\n",
       "<tbody>\n",
       "\t<tr><th scope=row>modelNoRound</th><td>19</td><td>23202.92</td></tr>\n",
       "\t<tr><th scope=row>modelRound5</th><td>25</td><td>23205.67</td></tr>\n",
       "\t<tr><th scope=row>modelRound10</th><td>25</td><td>23198.32</td></tr>\n",
       "</tbody>\n",
       "</table>\n"
      ],
      "text/latex": [
       "A data.frame: 3 × 2\n",
       "\\begin{tabular}{r|ll}\n",
       "  & df & AIC\\\\\n",
       "  & <dbl> & <dbl>\\\\\n",
       "\\hline\n",
       "\tmodelNoRound & 19 & 23202.92\\\\\n",
       "\tmodelRound5 & 25 & 23205.67\\\\\n",
       "\tmodelRound10 & 25 & 23198.32\\\\\n",
       "\\end{tabular}\n"
      ],
      "text/markdown": [
       "\n",
       "A data.frame: 3 × 2\n",
       "\n",
       "| <!--/--> | df &lt;dbl&gt; | AIC &lt;dbl&gt; |\n",
       "|---|---|---|\n",
       "| modelNoRound | 19 | 23202.92 |\n",
       "| modelRound5 | 25 | 23205.67 |\n",
       "| modelRound10 | 25 | 23198.32 |\n",
       "\n"
      ],
      "text/plain": [
       "             df AIC     \n",
       "modelNoRound 19 23202.92\n",
       "modelRound5  25 23205.67\n",
       "modelRound10 25 23198.32"
      ]
     },
     "metadata": {},
     "output_type": "display_data"
    }
   ],
   "source": [
    "modelNoRound <- glmmTMB(\n",
    "  absError ~ chartType_num * anchor_num * alignment_num +\n",
    "    (1 + anchor_num + alignment_num + chartType_num | userID),\n",
    "  data = data,\n",
    "  family = nbinom2(link = \"log\")\n",
    ")\n",
    "\n",
    "modelRound5 <- glmmTMB(\n",
    "  absError ~ chartType_num * anchor_num * alignment_num + distToNearest5 +\n",
    "    (1 + anchor_num + alignment_num + chartType_num + distToNearest5 | userID),\n",
    "  data = data,\n",
    "  family = nbinom2(link = \"log\")\n",
    ")\n",
    "\n",
    "modelRound10 <- glmmTMB(\n",
    "  absError ~ chartType_num * anchor_num * alignment_num + distToNearest10 +\n",
    "    (1 + anchor_num + alignment_num + chartType_num + distToNearest10 | userID),\n",
    "  data = data,\n",
    "  family = nbinom2(link = \"log\")\n",
    ")\n",
    "\n",
    "AIC(modelNoRound, modelRound5, modelRound10)"
   ]
  },
  {
   "cell_type": "markdown",
   "id": "8f4a9fa4",
   "metadata": {},
   "source": [
    "The model with rounding to 10s has the best fit and will be used for the remaining absolute error models\n",
    "\n",
    "#### Summary of the Absolute Error Model"
   ]
  },
  {
   "cell_type": "code",
   "execution_count": 25,
   "id": "59da35d2",
   "metadata": {
    "vscode": {
     "languageId": "r"
    }
   },
   "outputs": [
    {
     "data": {
      "text/plain": [
       " Family: nbinom2  ( log )\n",
       "Formula:          \n",
       "absError ~ chartType_num * anchor_num * alignment_num + distToNearest10 +  \n",
       "    (1 + anchor_num + alignment_num + chartType_num + distToNearest10 |  \n",
       "        userID)\n",
       "Data: data\n",
       "\n",
       "      AIC       BIC    logLik -2*log(L)  df.resid \n",
       "  23198.3   23364.1  -11574.2   23148.3      5587 \n",
       "\n",
       "Random effects:\n",
       "\n",
       "Conditional model:\n",
       " Groups Name            Variance Std.Dev. Corr                    \n",
       " userID (Intercept)     0.498816 0.70627                          \n",
       "        anchor_num      0.137221 0.37043  -0.93                   \n",
       "        alignment_num   0.015398 0.12409  -0.66  0.50             \n",
       "        chartType_num   0.018665 0.13662   0.18 -0.20 -0.36       \n",
       "        distToNearest10 0.002904 0.05389  -0.14  0.20 -0.32 -0.01 \n",
       "Number of obs: 5612, groups:  userID, 60\n",
       "\n",
       "Dispersion parameter for nbinom2 family (): 1.91 \n",
       "\n",
       "Conditional model:\n",
       "                                        Estimate Std. Error z value Pr(>|z|)\n",
       "(Intercept)                             0.237486   0.098208   2.418   0.0156\n",
       "chartType_num                           0.036388   0.034640   1.050   0.2935\n",
       "anchor_num                              0.656509   0.059412  11.050  < 2e-16\n",
       "alignment_num                           0.361369   0.034666  10.424  < 2e-16\n",
       "distToNearest10                         0.023832   0.011303   2.108   0.0350\n",
       "chartType_num:anchor_num                0.018127   0.029553   0.613   0.5396\n",
       "chartType_num:alignment_num             0.004644   0.029090   0.160   0.8732\n",
       "anchor_num:alignment_num               -0.173381   0.030207  -5.740 9.48e-09\n",
       "chartType_num:anchor_num:alignment_num  0.022538   0.028964   0.778   0.4365\n",
       "                                          \n",
       "(Intercept)                            *  \n",
       "chartType_num                             \n",
       "anchor_num                             ***\n",
       "alignment_num                          ***\n",
       "distToNearest10                        *  \n",
       "chartType_num:anchor_num                  \n",
       "chartType_num:alignment_num               \n",
       "anchor_num:alignment_num               ***\n",
       "chartType_num:anchor_num:alignment_num    \n",
       "---\n",
       "Signif. codes:  0 ‘***’ 0.001 ‘**’ 0.01 ‘*’ 0.05 ‘.’ 0.1 ‘ ’ 1"
      ]
     },
     "metadata": {},
     "output_type": "display_data"
    }
   ],
   "source": [
    "summary(modelRound10)"
   ]
  },
  {
   "cell_type": "markdown",
   "id": "086efe15",
   "metadata": {},
   "source": [
    "These results per factor in the GLMM from the summary:\n",
    "| Factor | Estimate | $p$ value | Significant |\n",
    "| :----: | :------: | :-------: | :---------: |\n",
    "| Chart Type | $\\hat{\\beta}=0.036388$ | $p=0.2935$ | No |\n",
    "| Anchoring | $\\hat{\\beta}=0.656509$ | $p< 2e-16$ | Yes |\n",
    "| Alignment | $\\hat{\\beta}=0.361369$ | $p< 2e-16$ | Yes |\n",
    "| Rounding by 10s | $\\hat{\\beta}=0.023832$ | $p=0.0350$ | Yes |\n",
    "\n",
    "The interaction results in the GLMM from the summary:\n",
    "\n",
    "| Interaction | Estimate | $p$ value | Significant |\n",
    "| :----: | :------: | :-------: | :---------: |\n",
    "| Chart Type $\\times$ Anchoring | $\\hat{\\beta}=0.018127$ | $p=0.5396$ | No |\n",
    "| Chart Type $\\times$ Alignment | $\\hat{\\beta}=0.004644$ | $p=0.8732$ | No |\n",
    "| Anchoring $\\times$ Alignment | $\\hat{\\beta}=-0.173381$ | $p=9.48e-09$ | Yes |\n",
    "| Three Way Interaction | $\\hat{\\beta}=0.022538$ | $p=0.4365$ | No |\n",
    "\n",
    "#### Build Distance Model"
   ]
  },
  {
   "cell_type": "code",
   "execution_count": 43,
   "id": "3801a8ea",
   "metadata": {
    "vscode": {
     "languageId": "r"
    }
   },
   "outputs": [],
   "source": [
    "modelDistance <- glmmTMB(\n",
    "  absError ~ chartType_num * anchorDistance * alignmentDistance +\n",
    "    (1 + chartType_num + anchorDistance + alignmentDistance | userID),\n",
    "  data = data,\n",
    "  family = nbinom2(link = \"log\")\n",
    ")"
   ]
  },
  {
   "cell_type": "code",
   "execution_count": 44,
   "id": "b9a4c38e",
   "metadata": {
    "vscode": {
     "languageId": "r"
    }
   },
   "outputs": [
    {
     "data": {
      "text/plain": [
       " Family: nbinom2  ( log )\n",
       "Formula:          \n",
       "absError ~ chartType_num * anchorDistance * alignmentDistance +  \n",
       "    (1 + chartType_num + anchorDistance + alignmentDistance |          userID)\n",
       "Data: data\n",
       "\n",
       "      AIC       BIC    logLik -2*log(L)  df.resid \n",
       "  23077.3   23203.3  -11519.7   23039.3      5593 \n",
       "\n",
       "Random effects:\n",
       "\n",
       "Conditional model:\n",
       " Groups Name              Variance Std.Dev. Corr              \n",
       " userID (Intercept)       0.75736  0.8703                     \n",
       "        chartType_num     0.01891  0.1375    0.24             \n",
       "        anchorDistance    0.07442  0.2728   -0.94 -0.21       \n",
       "        alignmentDistance 0.02654  0.1629   -0.71 -0.33  0.54 \n",
       "Number of obs: 5612, groups:  userID, 60\n",
       "\n",
       "Dispersion parameter for nbinom2 family (): 2.01 \n",
       "\n",
       "Conditional model:\n",
       "                                               Estimate Std. Error z value\n",
       "(Intercept)                                    -0.30019    0.12753  -2.354\n",
       "chartType_num                                  -0.09497    0.06040  -1.572\n",
       "anchorDistance                                  0.62209    0.05122  12.146\n",
       "alignmentDistance                               0.47789    0.04633  10.316\n",
       "chartType_num:anchorDistance                    0.07810    0.03603   2.168\n",
       "chartType_num:alignmentDistance                 0.06302    0.04024   1.566\n",
       "anchorDistance:alignmentDistance               -0.15040    0.02579  -5.832\n",
       "chartType_num:anchorDistance:alignmentDistance -0.02097    0.02537  -0.827\n",
       "                                               Pr(>|z|)    \n",
       "(Intercept)                                      0.0186 *  \n",
       "chartType_num                                    0.1159    \n",
       "anchorDistance                                  < 2e-16 ***\n",
       "alignmentDistance                               < 2e-16 ***\n",
       "chartType_num:anchorDistance                     0.0302 *  \n",
       "chartType_num:alignmentDistance                  0.1174    \n",
       "anchorDistance:alignmentDistance               5.46e-09 ***\n",
       "chartType_num:anchorDistance:alignmentDistance   0.4084    \n",
       "---\n",
       "Signif. codes:  0 ‘***’ 0.001 ‘**’ 0.01 ‘*’ 0.05 ‘.’ 0.1 ‘ ’ 1"
      ]
     },
     "metadata": {},
     "output_type": "display_data"
    }
   ],
   "source": [
    "summary(modelDistance)"
   ]
  },
  {
   "cell_type": "markdown",
   "id": "ee40147e",
   "metadata": {},
   "source": [
    "### Build Response Time Models"
   ]
  },
  {
   "cell_type": "code",
   "execution_count": 26,
   "id": "b68bc315",
   "metadata": {
    "vscode": {
     "languageId": "r"
    }
   },
   "outputs": [],
   "source": [
    "modelResponseTime <- glmmTMB(\n",
    "  responseTime ~ chartType_num * anchor_num * alignment_num +\n",
    "    (1 + anchor_num + alignment_num + chartType_num | userID),\n",
    "  data = data,\n",
    "  family = Gamma(link = \"log\")\n",
    ")"
   ]
  },
  {
   "cell_type": "markdown",
   "id": "5f838d62",
   "metadata": {},
   "source": [
    "#### Summary of the Response Time Model"
   ]
  },
  {
   "cell_type": "code",
   "execution_count": 27,
   "id": "35c2f9db",
   "metadata": {
    "vscode": {
     "languageId": "r"
    }
   },
   "outputs": [
    {
     "data": {
      "text/plain": [
       " Family: Gamma  ( log )\n",
       "Formula:          \n",
       "responseTime ~ chartType_num * anchor_num * alignment_num + (1 +  \n",
       "    anchor_num + alignment_num + chartType_num | userID)\n",
       "Data: data\n",
       "\n",
       "      AIC       BIC    logLik -2*log(L)  df.resid \n",
       "  27055.1   27181.1  -13508.5   27017.1      5593 \n",
       "\n",
       "Random effects:\n",
       "\n",
       "Conditional model:\n",
       " Groups Name          Variance  Std.Dev. Corr              \n",
       " userID (Intercept)   0.1248288 0.35331                    \n",
       "        anchor_num    0.0019921 0.04463   0.12             \n",
       "        alignment_num 0.0007469 0.02733   0.31 -0.44       \n",
       "        chartType_num 0.0033118 0.05755   0.16  0.35  0.04 \n",
       "Number of obs: 5612, groups:  userID, 60\n",
       "\n",
       "Dispersion estimate for Gamma family (sigma^2): 0.147 \n",
       "\n",
       "Conditional model:\n",
       "                                         Estimate Std. Error z value Pr(>|z|)\n",
       "(Intercept)                             1.8728939  0.0463525   40.41  < 2e-16\n",
       "chartType_num                           0.0008645  0.0110938    0.08  0.93788\n",
       "anchor_num                              0.1137857  0.0100649   11.31  < 2e-16\n",
       "alignment_num                           0.0447381  0.0089718    4.99 6.15e-07\n",
       "chartType_num:anchor_num                0.0022411  0.0082407    0.27  0.78566\n",
       "chartType_num:alignment_num             0.0076082  0.0082410    0.92  0.35589\n",
       "anchor_num:alignment_num               -0.0234473  0.0082497   -2.84  0.00448\n",
       "chartType_num:anchor_num:alignment_num -0.0107225  0.0082441   -1.30  0.19339\n",
       "                                          \n",
       "(Intercept)                            ***\n",
       "chartType_num                             \n",
       "anchor_num                             ***\n",
       "alignment_num                          ***\n",
       "chartType_num:anchor_num                  \n",
       "chartType_num:alignment_num               \n",
       "anchor_num:alignment_num               ** \n",
       "chartType_num:anchor_num:alignment_num    \n",
       "---\n",
       "Signif. codes:  0 ‘***’ 0.001 ‘**’ 0.01 ‘*’ 0.05 ‘.’ 0.1 ‘ ’ 1"
      ]
     },
     "metadata": {},
     "output_type": "display_data"
    }
   ],
   "source": [
    "summary(modelResponseTime)"
   ]
  },
  {
   "cell_type": "markdown",
   "id": "43caef57",
   "metadata": {},
   "source": [
    "These results per factor in the GLMM from the summary:\n",
    "| Factor | Estimate | $p$ value | Significant |\n",
    "| :----: | :------: | :-------: | :---------: |\n",
    "| Chart Type | $\\hat{\\beta}=0.0008645$ | $p=0.93788$ | No |\n",
    "| Anchoring | $\\hat{\\beta}=0.1137857$ | $p< 2e-16$ | Yes |\n",
    "| Alignment | $\\hat{\\beta}=0.0447381$ | $p< 2e-16$ | Yes |\n",
    "\n",
    "The interaction results in the GLMM from the summary:\n",
    "\n",
    "| Interaction | Estimate | $p$ value | Significant |\n",
    "| :----: | :------: | :-------: | :---------: |\n",
    "| Chart Type $\\times$ Anchoring | $\\hat{\\beta}=0.0022411$ | $p=0.78566$ | No |\n",
    "| Chart Type $\\times$ Alignment | $\\hat{\\beta}=0.0076082$ | $p=0.35589$ | No |\n",
    "| Anchoring $\\times$ Alignment | $\\hat{\\beta}=-0.0234473$ | $p=0.00448$ | Yes |\n",
    "| Three Way Interaction | $\\hat{\\beta}=-0.0107225$ | $p=0.19339$ | No |\n"
   ]
  }
 ],
 "metadata": {
  "kernelspec": {
   "display_name": "R",
   "language": "R",
   "name": "ir"
  },
  "language_info": {
   "codemirror_mode": "r",
   "file_extension": ".r",
   "mimetype": "text/x-r-source",
   "name": "R",
   "pygments_lexer": "r",
   "version": "4.3.2"
  }
 },
 "nbformat": 4,
 "nbformat_minor": 5
}
